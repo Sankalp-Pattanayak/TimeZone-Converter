{
 "cells": [
  {
   "attachments": {
    "lpu_logo.png": {
     "image/png": "[encoded data removed]"
    }
   },
   "cell_type": "markdown",
   "id": "93f46f50",
   "metadata": {},
   "source": [
    "![lpu_logo.png](attachment:lpu_logo.png)"
   ]
  },
  {
   "cell_type": "markdown",
   "id": "b701e408",
   "metadata": {},
   "source": [
    "<i><u><h1><center>Python Project</center></h1><u><i>\n",
    "<i><u><h1><center>Time Zone Convertor</center></h1><u><i>\n",
    "<h3><left>By:</left></h3>\n",
    "<h3><left>Sankalp Pattanayak</left></h3>\n",
    "<h3><left>Shivam Thakur</left></h3>\n",
    "<h3><left>Manit Chutani</left></h3>"
   ]
  },
  {
   "cell_type": "markdown",
   "id": "e4e56120",
   "metadata": {},
   "source": [
    "<hr><hr><hr>\n"
   ]
  },
  {
   "cell_type": "markdown",
   "id": "8405b86c",
   "metadata": {},
   "source": [
    "# Introduction:\n",
    "### Most datetime items came back from the dateutil parser are naive, which means they don’t have an explicit tzinfo. tzinfo determines the timezone and UTC offest. It is the standard ISO format for UTC datetime strings. UTC is the coordinated universal time, and is fundamentally the equivalent as GMT. ISO is the International Standards Organization, which in addition to other things, determines standard datetime designing.\n",
    "\n",
    "### Python datetime items can either be naive or mindful. In the event that a datetime item has a tzinfo, at that point it knows. Something else, the datetime is naive. To make an naive datetime object timezone aware, define tzinfo abstract baseclass. In any case, the Python datetime library just characterizes a conceptual baseclass for tzinfo, and leaves it over to others to really actualize tzinfo creation. This is the place the tz module of dateutil comes in—it gives all that it is required to turn upward timezones from your OS timezone information"
   ]
  },
  {
   "cell_type": "markdown",
   "id": "a9e3c890",
   "metadata": {},
   "source": [
    "# Disclaimer: Please run all the below codes to get the desired output"
   ]
  },
  {
   "cell_type": "markdown",
   "id": "308f74e4",
   "metadata": {},
   "source": [
    "## We have imported datetime, pytz, timezone libraries to get the accurate time in various regions"
   ]
  },
  {
   "cell_type": "code",
   "execution_count": 3,
   "id": "ba036438",
   "metadata": {},
   "outputs": [],
   "source": [
    "from datetime import datetime\n",
    "from pytz import timezone\n",
    "\n",
    "fmt = \"%Y-%m-%d-%H:%M:%S %Z%z\"\n",
    "\n"
   ]
  },
  {
   "cell_type": "markdown",
   "id": "fe25ce78",
   "metadata": {},
   "source": [
    "### Run the below cell and then run the cell of the country you desire to see the time"
   ]
  },
  {
   "cell_type": "markdown",
   "id": "6e07c85d",
   "metadata": {},
   "source": [
    "#### Current Time(In UTC)"
   ]
  },
  {
   "cell_type": "code",
   "execution_count": 4,
   "id": "9cdffea4",
   "metadata": {},
   "outputs": [
    {
     "name": "stdout",
     "output_type": "stream",
     "text": [
      "UTC : 2022-11-26 17:39:03.839348+00:00\n"
     ]
    }
   ],
   "source": [
    "now_utc = datetime.now(timezone('UTC'))\n",
    "print('UTC :', now_utc)"
   ]
  },
  {
   "cell_type": "markdown",
   "id": "fb639add",
   "metadata": {},
   "source": [
    "### Time in EST"
   ]
  },
  {
   "cell_type": "code",
   "execution_count": 5,
   "id": "27a510b9",
   "metadata": {},
   "outputs": [
    {
     "name": "stdout",
     "output_type": "stream",
     "text": [
      "EST : 2022-11-26 12:39:03.839348-05:00\n"
     ]
    }
   ],
   "source": [
    "now_est = now_utc.astimezone(timezone('US/Eastern'))\n",
    "print('EST :',now_est)"
   ]
  },
  {
   "attachments": {},
   "cell_type": "markdown",
   "id": "c7b3708a",
   "metadata": {},
   "source": [
    "### Time in Berlin"
   ]
  },
  {
   "cell_type": "code",
   "execution_count": 6,
   "id": "3ddbb0ed",
   "metadata": {},
   "outputs": [
    {
     "name": "stdout",
     "output_type": "stream",
     "text": [
      "Berlin : 2022-11-26 18:39:03.839348+01:00\n"
     ]
    }
   ],
   "source": [
    "now_berlin = now_utc.astimezone(timezone('Europe/Berlin'))\n",
    "print('Berlin :',now_berlin)"
   ]
  },
  {
   "cell_type": "markdown",
   "id": "7edb16e2",
   "metadata": {},
   "source": [
    "### Time in London"
   ]
  },
  {
   "cell_type": "code",
   "execution_count": 7,
   "id": "50027fdf",
   "metadata": {},
   "outputs": [
    {
     "name": "stdout",
     "output_type": "stream",
     "text": [
      "London : 2022-11-26 17:39:03.839348+00:00\n"
     ]
    }
   ],
   "source": [
    "now_london = now_utc.astimezone(timezone('Europe/London'))\n",
    "print('London :',now_london)"
   ]
  },
  {
   "cell_type": "markdown",
   "id": "03c9181c",
   "metadata": {},
   "source": [
    "### Time in Kolkata"
   ]
  },
  {
   "cell_type": "code",
   "execution_count": 8,
   "id": "f3978c22",
   "metadata": {},
   "outputs": [
    {
     "name": "stdout",
     "output_type": "stream",
     "text": [
      "Kolkata : 2022-11-26 23:09:03.839348+05:30\n"
     ]
    }
   ],
   "source": [
    "now_kolkata = now_utc.astimezone(timezone('Asia/Kolkata'))\n",
    "print('Kolkata :',now_kolkata)"
   ]
  },
  {
   "cell_type": "markdown",
   "id": "8465ba55",
   "metadata": {},
   "source": [
    "### Time in Shanghai"
   ]
  },
  {
   "cell_type": "code",
   "execution_count": 9,
   "id": "b11c6203",
   "metadata": {},
   "outputs": [
    {
     "name": "stdout",
     "output_type": "stream",
     "text": [
      "Shanghai : 2022-11-27 01:39:03.839348+08:00\n"
     ]
    }
   ],
   "source": [
    "now_shanghai = now_utc.astimezone(timezone('Asia/Shanghai'))\n",
    "print('Shanghai :',now_shanghai)"
   ]
  },
  {
   "cell_type": "markdown",
   "id": "38d35d4d",
   "metadata": {},
   "source": [
    "### Time in Sydney"
   ]
  },
  {
   "cell_type": "code",
   "execution_count": 10,
   "id": "f29cb083",
   "metadata": {},
   "outputs": [
    {
     "name": "stdout",
     "output_type": "stream",
     "text": [
      "Sydney : 2022-11-27 04:39:03.839348+11:00\n"
     ]
    }
   ],
   "source": [
    "now_sydney = now_utc.astimezone(timezone('Australia/Sydney'))\n",
    "print('Sydney :',now_sydney)"
   ]
  },
  {
   "cell_type": "markdown",
   "id": "6ca2224a",
   "metadata": {},
   "source": [
    "### Time in Johannesburg"
   ]
  },
  {
   "cell_type": "code",
   "execution_count": 11,
   "id": "20760e34",
   "metadata": {},
   "outputs": [
    {
     "name": "stdout",
     "output_type": "stream",
     "text": [
      "Johannesburg : 2022-11-26 19:39:03.839348+02:00\n"
     ]
    }
   ],
   "source": [
    " now_Johannesburg = now_utc.astimezone(timezone('Africa/Johannesburg'))\n",
    "print('Johannesburg :',now_Johannesburg)"
   ]
  },
  {
   "cell_type": "markdown",
   "id": "45d33e85",
   "metadata": {},
   "source": [
    "#### Scope of Improvement:\n",
    "#### We can use other various libraries to get the time in other countries given by the user. Right now we can only get the time by checking the current time in the country/state of the user and then further run the codes to get the time in other timezones"
   ]
  },
  {
   "cell_type": "markdown",
   "id": "9e1e3060",
   "metadata": {},
   "source": [
    "#### Application\n",
    "#### This can be used to various devices to get the time in different countries"
   ]
  }
 ],
 "metadata": {
  "kernelspec": {
   "display_name": "Python 3 (ipykernel)",
   "language": "python",
   "name": "python3"
  },
  "language_info": {
   "codemirror_mode": {
    "name": "ipython",
    "version": 3
   },
   "file_extension": ".py",
   "mimetype": "text/x-python",
   "name": "python",
   "nbconvert_exporter": "python",
   "pygments_lexer": "ipython3",
   "version": "3.9.12"
  }
 },
 "nbformat": 4,
 "nbformat_minor": 5
}
